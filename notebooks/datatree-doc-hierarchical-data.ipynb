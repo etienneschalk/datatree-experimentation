{
 "cells": [
  {
   "cell_type": "markdown",
   "metadata": {},
   "source": [
    "See https://xarray-datatree.readthedocs.io/en/latest/hierarchical-data.html "
   ]
  },
  {
   "cell_type": "markdown",
   "metadata": {},
   "source": [
    "Test the `.siblings`, `.children`, `.parent`, `.root` properties, as well as `.is_leaf`, `.leaves`"
   ]
  },
  {
   "cell_type": "code",
   "execution_count": null,
   "metadata": {},
   "outputs": [],
   "source": [
    "from datatree import DataTree, open_datatree\n",
    "import xarray as xr \n",
    "import numpy as np"
   ]
  },
  {
   "cell_type": "code",
   "execution_count": null,
   "metadata": {},
   "outputs": [],
   "source": [
    "bart = DataTree(name=\"Bart\")\n",
    "lisa = DataTree(name=\"Lisa\")\n",
    "homer = DataTree(name=\"Homer\", children={\"Bart\": bart, \"Lisa\": lisa})\n",
    "print(homer)"
   ]
  },
  {
   "cell_type": "code",
   "execution_count": null,
   "metadata": {},
   "outputs": [],
   "source": [
    "list(bart.siblings)"
   ]
  },
  {
   "cell_type": "code",
   "execution_count": null,
   "metadata": {},
   "outputs": [],
   "source": [
    "maggie = DataTree(name=\"Maggie\")\n",
    "homer.children = {\"Bart\": bart, \"Lisa\": lisa, \"Maggie\": maggie}\n",
    "print(homer)"
   ]
  },
  {
   "cell_type": "code",
   "execution_count": null,
   "metadata": {},
   "outputs": [],
   "source": [
    "maggie.parent.name"
   ]
  },
  {
   "cell_type": "code",
   "execution_count": null,
   "metadata": {},
   "outputs": [],
   "source": [
    "abe = DataTree(name=\"Abe\")\n",
    "homer.parent = abe\n",
    "maggie.root.name"
   ]
  },
  {
   "cell_type": "code",
   "execution_count": null,
   "metadata": {},
   "outputs": [],
   "source": [
    "print(abe)"
   ]
  },
  {
   "cell_type": "code",
   "execution_count": null,
   "metadata": {},
   "outputs": [],
   "source": [
    "herbert = DataTree(name=\"Herb\")\n",
    "new_abe = abe.assign({\"Herbert\": herbert})\n",
    "print(abe)\n",
    "print(new_abe)\n",
    "# Note that Herb is renamed to Herbert, \n",
    "# and abe is not modified in-place"
   ]
  },
  {
   "cell_type": "code",
   "execution_count": null,
   "metadata": {},
   "outputs": [],
   "source": [
    "from datatree import InvalidTreeError\n",
    "try:\n",
    "    abe.parent = homer\n",
    "except InvalidTreeError as err:\n",
    "    print(err)\n",
    "    "
   ]
  },
  {
   "cell_type": "markdown",
   "metadata": {},
   "source": [
    "Ancestry in an Evolutionary Tree"
   ]
  },
  {
   "cell_type": "code",
   "execution_count": null,
   "metadata": {},
   "outputs": [],
   "source": [
    "vertebrates = DataTree.from_dict(\n",
    "    name=\"Vertebrae\",\n",
    "    d={\n",
    "        \"/Sharks\": None,\n",
    "        \"/Bony Skeleton/Ray-finned Fish\": None,\n",
    "        \"/Bony Skeleton/Four Limbs/Amphibians\": None,\n",
    "        \"/Bony Skeleton/Four Limbs/Amniotic Egg/Hair/Primates\": None,\n",
    "        \"/Bony Skeleton/Four Limbs/Amniotic Egg/Hair/Rodents & Rabbits\": None,\n",
    "        \"/Bony Skeleton/Four Limbs/Amniotic Egg/Two Fenestrae/Dinosaurs\": None,\n",
    "        \"/Bony Skeleton/Four Limbs/Amniotic Egg/Two Fenestrae/Birds\": None,\n",
    "    },\n",
    ")"
   ]
  },
  {
   "cell_type": "code",
   "execution_count": null,
   "metadata": {},
   "outputs": [],
   "source": [
    "primates = vertebrates[\"/Bony Skeleton/Four Limbs/Amniotic Egg/Hair/Primates\"]"
   ]
  },
  {
   "cell_type": "code",
   "execution_count": null,
   "metadata": {},
   "outputs": [],
   "source": [
    "dinosaurs = vertebrates[\n",
    "    \"/Bony Skeleton/Four Limbs/Amniotic Egg/Two Fenestrae/Dinosaurs\"\n",
    "]"
   ]
  },
  {
   "cell_type": "code",
   "execution_count": null,
   "metadata": {},
   "outputs": [],
   "source": [
    "print(vertebrates)"
   ]
  },
  {
   "cell_type": "code",
   "execution_count": null,
   "metadata": {},
   "outputs": [],
   "source": [
    "primates.is_leaf"
   ]
  },
  {
   "cell_type": "code",
   "execution_count": null,
   "metadata": {},
   "outputs": [],
   "source": [
    "[node.name for node in vertebrates.leaves]"
   ]
  },
  {
   "cell_type": "code",
   "execution_count": null,
   "metadata": {},
   "outputs": [],
   "source": [
    "[node.name for node in primates.ancestors]\n"
   ]
  },
  {
   "cell_type": "code",
   "execution_count": null,
   "metadata": {},
   "outputs": [],
   "source": [
    "primates.root.name"
   ]
  },
  {
   "cell_type": "code",
   "execution_count": null,
   "metadata": {},
   "outputs": [],
   "source": [
    "primates.find_common_ancestor(dinosaurs).name"
   ]
  },
  {
   "cell_type": "code",
   "execution_count": null,
   "metadata": {},
   "outputs": [],
   "source": [
    "alien = DataTree(name=\"Xenomorph\")"
   ]
  },
  {
   "cell_type": "code",
   "execution_count": null,
   "metadata": {},
   "outputs": [],
   "source": [
    "from datatree import NotFoundInTreeError\n",
    "try:\n",
    "    primates.find_common_ancestor(alien)\n",
    "except NotFoundInTreeError as err:\n",
    "    print(err)"
   ]
  },
  {
   "cell_type": "code",
   "execution_count": null,
   "metadata": {},
   "outputs": [],
   "source": [
    "# Depth-first\n",
    "for node in vertebrates.subtree:\n",
    "\n",
    "    print(node.path)"
   ]
  },
  {
   "cell_type": "code",
   "execution_count": null,
   "metadata": {},
   "outputs": [],
   "source": [
    "node.has_data"
   ]
  },
  {
   "cell_type": "code",
   "execution_count": null,
   "metadata": {},
   "outputs": [],
   "source": [
    "node"
   ]
  },
  {
   "cell_type": "code",
   "execution_count": null,
   "metadata": {},
   "outputs": [],
   "source": [
    "homer.is_hollow # Homer does not carry arrays, only trees"
   ]
  },
  {
   "cell_type": "code",
   "execution_count": null,
   "metadata": {},
   "outputs": [],
   "source": [
    "homer['age'] = xr.DataArray(45)"
   ]
  },
  {
   "cell_type": "code",
   "execution_count": null,
   "metadata": {},
   "outputs": [],
   "source": [
    "homer.is_hollow # now Homer carry an array so it is not hollow anymore"
   ]
  },
  {
   "cell_type": "code",
   "execution_count": null,
   "metadata": {},
   "outputs": [],
   "source": [
    "dt = DataTree.from_dict(\n",
    "    {\n",
    "        \"/a/A\": None,\n",
    "        \"/a/B\": None,\n",
    "        \"/b/A\": None,\n",
    "        \"/b/B\": None,\n",
    "    }\n",
    ")"
   ]
  },
  {
   "cell_type": "code",
   "execution_count": null,
   "metadata": {},
   "outputs": [],
   "source": [
    "dt['/a/B'].path"
   ]
  },
  {
   "cell_type": "code",
   "execution_count": null,
   "metadata": {},
   "outputs": [],
   "source": [
    "result = dt.match(\"*/B\")"
   ]
  },
  {
   "cell_type": "code",
   "execution_count": null,
   "metadata": {},
   "outputs": [],
   "source": [
    "from pathlib import Path, PurePosixPath\n",
    "\n",
    "path = PurePosixPath('*/test/a/b')\n",
    "print(str(path), type(path))"
   ]
  },
  {
   "cell_type": "code",
   "execution_count": null,
   "metadata": {},
   "outputs": [],
   "source": [
    "simpsons = DataTree.from_dict(\n",
    "    d={\n",
    "        \"/\": xr.Dataset({\"age\": 83}),\n",
    "        \"/Herbert\": xr.Dataset({\"age\": 40}),\n",
    "        \"/Homer\": xr.Dataset({\"age\": 39}),\n",
    "        \"/Homer/Bart\": xr.Dataset({\"age\": 10}),\n",
    "        \"/Homer/Lisa\": xr.Dataset({\"age\": 8}),\n",
    "        \"/Homer/Maggie\": xr.Dataset({\"age\": 1}),\n",
    "    },\n",
    "    name=\"Abe\",\n",
    ")\n",
    "print(simpsons)"
   ]
  },
  {
   "cell_type": "code",
   "execution_count": null,
   "metadata": {},
   "outputs": [],
   "source": [
    "print(simpsons.filter(lambda node: node[\"age\"] > 18))"
   ]
  },
  {
   "cell_type": "code",
   "execution_count": null,
   "metadata": {},
   "outputs": [],
   "source": [
    "[thing for thing in simpsons]"
   ]
  },
  {
   "cell_type": "code",
   "execution_count": null,
   "metadata": {},
   "outputs": [],
   "source": [
    "[thing for thing in simpsons.subtree]"
   ]
  },
  {
   "cell_type": "code",
   "execution_count": null,
   "metadata": {},
   "outputs": [],
   "source": [
    "print(list(node  for node in simpsons.subtree if node[\"age\"] > 18))"
   ]
  },
  {
   "cell_type": "code",
   "execution_count": null,
   "metadata": {},
   "outputs": [],
   "source": [
    "In [54]: def time_stamps(n_samples, T):\n",
    "   ....:     \"\"\"Create an array of evenly-spaced time stamps\"\"\"\n",
    "   ....:     return xr.DataArray(\n",
    "   ....:         data=np.linspace(0, 2 * np.pi * T, n_samples), dims=[\"time\"]\n",
    "   ....:     )\n",
    "   ....: \n",
    "\n",
    "In [55]: def signal_generator(t, f, A, phase):\n",
    "   ....:     \"\"\"Generate an example electrical-like waveform\"\"\"\n",
    "   ....:     return A * np.sin(f * t.data + phase)\n",
    "   ....: \n",
    "\n",
    "In [56]: time_stamps1 = time_stamps(n_samples=15, T=1.5)\n",
    "\n",
    "In [57]: time_stamps2 = time_stamps(n_samples=10, T=1.0)\n",
    "\n",
    "In [58]: voltages = DataTree.from_dict(\n",
    "   ....:     {\n",
    "   ....:         \"/oscilloscope1\": xr.Dataset(\n",
    "   ....:             {\n",
    "   ....:                 \"potential\": (\n",
    "   ....:                     \"time\",\n",
    "   ....:                     signal_generator(time_stamps1, f=2, A=1.2, phase=0.5),\n",
    "   ....:                 ),\n",
    "   ....:                 \"current\": (\n",
    "   ....:                     \"time\",\n",
    "   ....:                     signal_generator(time_stamps1, f=2, A=1.2, phase=1),\n",
    "   ....:                 ),\n",
    "   ....:             },\n",
    "   ....:             coords={\"time\": time_stamps1},\n",
    "   ....:         ),\n",
    "   ....:         \"/oscilloscope2\": xr.Dataset(\n",
    "   ....:             {\n",
    "   ....:                 \"potential\": (\n",
    "   ....:                     \"time\",\n",
    "   ....:                     signal_generator(time_stamps2, f=1.6, A=1.6, phase=0.2),\n",
    "   ....:                 ),\n",
    "   ....:                 \"current\": (\n",
    "   ....:                     \"time\",\n",
    "   ....:                     signal_generator(time_stamps2, f=1.6, A=1.6, phase=0.7),\n",
    "   ....:                 ),\n",
    "   ....:             },\n",
    "   ....:             coords={\"time\": time_stamps2},\n",
    "   ....:         ),\n",
    "   ....:     }\n",
    "   ....: )\n",
    "   ....: \n",
    "\n",
    "In [59]: voltages\n"
   ]
  },
  {
   "cell_type": "code",
   "execution_count": null,
   "metadata": {},
   "outputs": [],
   "source": [
    "zarr_path= Path().resolve() / '../generated' / 'simpsons.zarr'\n"
   ]
  },
  {
   "cell_type": "code",
   "execution_count": null,
   "metadata": {},
   "outputs": [],
   "source": [
    "simpsons.to_zarr(zarr_path)"
   ]
  },
  {
   "cell_type": "code",
   "execution_count": null,
   "metadata": {},
   "outputs": [],
   "source": [
    "reopened = open_datatree(zarr_path,engine=\"zarr\")\n",
    "reopened"
   ]
  },
  {
   "cell_type": "code",
   "execution_count": null,
   "metadata": {},
   "outputs": [],
   "source": [
    "import dask.array as da\n",
    "rng = np.random.default_rng()\n",
    "\n",
    "xda = xr.DataArray(\n",
    "    [da.from_array(rng.standard_normal(18), chunks=3) for i in range(3)],\n",
    "    coords = {'label': ['a', 'b', 'c'] ,'z': list(range(18))}\n",
    ")\n",
    "print(\"da is realized..., \")\n",
    "print(xda)\n",
    "xda = xda.chunk( {'label': 2, 'z': 4})\n",
    "# xda = xda.chunk( {'label': 1, 'z': 3})\n",
    "print(\"reconvert to dask array\")\n",
    "print(xda)\n",
    "print(xda.chunks)\n",
    "print(xda.chunksizes)\n",
    "xda"
   ]
  },
  {
   "cell_type": "code",
   "execution_count": null,
   "metadata": {},
   "outputs": [],
   "source": [
    "dt_with_str_dim_labels = DataTree(\n",
    "    xr.Dataset({\"the_array\": xda})\n",
    ")\n",
    "dt_with_str_dim_labels.the_array"
   ]
  },
  {
   "cell_type": "code",
   "execution_count": null,
   "metadata": {},
   "outputs": [],
   "source": [
    "dt_with_str_dim_labels.to_zarr(zarr_path / '../labelled.zarr')"
   ]
  },
  {
   "cell_type": "code",
   "execution_count": null,
   "metadata": {},
   "outputs": [],
   "source": [
    "# Without chunks=auto...\n",
    "reopened_dt_with_str_dim_labels_no_chunk = open_datatree(zarr_path/ '../labelled.zarr',engine=\"zarr\")\n",
    "reopened_dt_with_str_dim_labels_no_chunk.the_array"
   ]
  },
  {
   "cell_type": "code",
   "execution_count": null,
   "metadata": {},
   "outputs": [],
   "source": [
    "# Bug: datatree does not take into account chunks = auto!\n",
    "\n",
    "reopened_dt_with_str_dim_labels = open_datatree(zarr_path/ '../labelled.zarr', engine=\"zarr\", chunks={'label': 3, 'z': 5})\n",
    "reopened_dt_with_str_dim_labels.the_array"
   ]
  },
  {
   "cell_type": "code",
   "execution_count": null,
   "metadata": {},
   "outputs": [],
   "source": [
    "\n",
    "# When provided explicitly it works, but we can give anything we want and does not map to \n",
    "# the actual way the data is stored... risk of rechunk?\n",
    "reopened_dt_with_str_dim_labels = open_datatree(zarr_path/ '../labelled.zarr', engine=\"zarr\", chunks={'label': 3, 'z': 5})\n",
    "reopened_dt_with_str_dim_labels.the_array"
   ]
  },
  {
   "cell_type": "code",
   "execution_count": null,
   "metadata": {},
   "outputs": [],
   "source": []
  },
  {
   "cell_type": "code",
   "execution_count": null,
   "metadata": {},
   "outputs": [],
   "source": [
    "from xarray import open_zarr\n",
    "open_zarr(zarr_path/ '../labelled.zarr', chunks='auto').the_array"
   ]
  },
  {
   "cell_type": "code",
   "execution_count": null,
   "metadata": {},
   "outputs": [],
   "source": []
  }
 ],
 "metadata": {
  "kernelspec": {
   "display_name": "datatree-experimentation-Sa4oWCLA-py3.10",
   "language": "python",
   "name": "python3"
  },
  "language_info": {
   "codemirror_mode": {
    "name": "ipython",
    "version": 3
   },
   "file_extension": ".py",
   "mimetype": "text/x-python",
   "name": "python",
   "nbconvert_exporter": "python",
   "pygments_lexer": "ipython3",
   "version": "3.10.12"
  }
 },
 "nbformat": 4,
 "nbformat_minor": 2
}
