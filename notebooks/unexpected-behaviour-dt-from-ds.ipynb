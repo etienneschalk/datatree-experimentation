{
 "cells": [
  {
   "cell_type": "markdown",
   "metadata": {},
   "source": [
    "# When creating a DataTree from a Dataset with path-like variable, subgroups are expected to be created"
   ]
  },
  {
   "cell_type": "code",
   "execution_count": 22,
   "metadata": {},
   "outputs": [],
   "source": [
    "from pathlib import Path\n",
    "\n",
    "import numpy as np\n",
    "import xarray as xr\n",
    "import datatree as dt \n",
    "from xarray import open_zarr"
   ]
  },
  {
   "cell_type": "code",
   "execution_count": 23,
   "metadata": {},
   "outputs": [],
   "source": [
    "# Set to True to get rich HTML representations in an interactive Notebook session\n",
    "# Set to False to get textual representations ready to be converted to markdown for issue report\n",
    "\n",
    "INTERACTIVE = False \n",
    "\n",
    "# Convert to markdown with\n",
    "# jupyter nbconvert --to markdown notebooks/unexpected-behaviour-dt-from-ds.ipynb"
   ]
  },
  {
   "cell_type": "markdown",
   "metadata": {},
   "source": [
    "### Test Data Initialization\n",
    "\n",
    "A Dataset containing a single variable, with a name containing slashes, representing a path."
   ]
  },
  {
   "cell_type": "code",
   "execution_count": 24,
   "metadata": {},
   "outputs": [
    {
     "name": "stdout",
     "output_type": "stream",
     "text": [
      "<xarray.Dataset>\n",
      "Dimensions:                     (label: 3, z: 18)\n",
      "Coordinates:\n",
      "  * label                       (label) <U1 'a' 'b' 'c'\n",
      "  * z                           (z) int64 0 1 2 3 4 5 6 ... 11 12 13 14 15 16 17\n",
      "Data variables:\n",
      "    group/subgroup/my_variable  (label, z) int64 dask.array<chunksize=(2, 4), meta=np.ndarray>\n"
     ]
    }
   ],
   "source": [
    "xda = xr.DataArray(\n",
    "    np.arange(3 * 18).reshape(3, 18),\n",
    "    coords={\"label\": list(\"abc\"), \"z\": list(range(18))},\n",
    ")\n",
    "xda = xda.chunk({\"label\": 2, \"z\": 4})\n",
    "xds = xr.Dataset({\"group/subgroup/my_variable\": xda})\n",
    "xds if INTERACTIVE else print(xds)"
   ]
  },
  {
   "cell_type": "markdown",
   "metadata": {},
   "source": [
    "This flat Dataset containing path-like variable name is expected to produce groups and subgroups\n",
    "once injected into a DataTree.\n",
    "\n",
    "Unfortunately, it does not happen. Instead it produces a flat DataTree with a single variable,\n",
    "with an illegal name (containing slashes)."
   ]
  },
  {
   "cell_type": "code",
   "execution_count": 25,
   "metadata": {},
   "outputs": [
    {
     "name": "stdout",
     "output_type": "stream",
     "text": [
      "DataTree('None', parent=None)\n",
      "    Dimensions:                     (label: 3, z: 18)\n",
      "    Coordinates:\n",
      "      * label                       (label) <U1 'a' 'b' 'c'\n",
      "      * z                           (z) int64 0 1 2 3 4 5 6 ... 11 12 13 14 15 16 17\n",
      "    Data variables:\n",
      "        group/subgroup/my_variable  (label, z) int64 dask.array<chunksize=(2, 4), meta=np.ndarray>\n"
     ]
    }
   ],
   "source": [
    "xdt = dt.DataTree(xds)\n",
    "xdt if INTERACTIVE else print(xdt)"
   ]
  },
  {
   "cell_type": "markdown",
   "metadata": {},
   "source": [
    "This is not only cosmetic. Indeed, trying to access this malformed variable name will result in an error:"
   ]
  },
  {
   "cell_type": "code",
   "execution_count": 26,
   "metadata": {},
   "outputs": [
    {
     "name": "stdout",
     "output_type": "stream",
     "text": [
      "'Could not find node at group/subgroup/my_variable'\n"
     ]
    }
   ],
   "source": [
    "try: \n",
    "    xdt[\"group/subgroup/my_variable\"]\n",
    "except KeyError as err:\n",
    "    print(err)"
   ]
  },
  {
   "cell_type": "markdown",
   "metadata": {},
   "source": [
    "The expected behaviour would be the one of using `__setitem__`:"
   ]
  },
  {
   "cell_type": "code",
   "execution_count": 27,
   "metadata": {},
   "outputs": [
    {
     "name": "stdout",
     "output_type": "stream",
     "text": [
      "DataTree('None', parent=None)\n",
      "└── DataTree('group')\n",
      "    └── DataTree('subgroup')\n",
      "            Dimensions:      (label: 3, z: 18)\n",
      "            Coordinates:\n",
      "              * label        (label) <U1 'a' 'b' 'c'\n",
      "              * z            (z) int64 0 1 2 3 4 5 6 7 8 9 10 11 12 13 14 15 16 17\n",
      "            Data variables:\n",
      "                my_variable  (label, z) int64 dask.array<chunksize=(2, 4), meta=np.ndarray>\n"
     ]
    }
   ],
   "source": [
    "xdt = dt.DataTree()\n",
    "for varname, xda in xds.items():\n",
    "    xdt[varname] = xda\n",
    "xdt if INTERACTIVE else print(xdt)"
   ]
  },
  {
   "cell_type": "markdown",
   "metadata": {},
   "source": [
    "### Technical Hints\n",
    "\n",
    "`__setitem__` wraps the key into a `NodePath`:\n",
    "\n",
    "https://github.com/xarray-contrib/datatree/blob/0afaa6cc1d6800987d8b9c37a604dc0a8c68aeaa/datatree/datatree.py#L923\n",
    "\n",
    "Probably this section of the DataTree initialization logic would need to be adapted:\n",
    "\n",
    "https://github.com/xarray-contrib/datatree/blob/0afaa6cc1d6800987d8b9c37a604dc0a8c68aeaa/datatree/datatree.py#L408\n"
   ]
  },
  {
   "cell_type": "markdown",
   "metadata": {},
   "source": [
    "## Discussion"
   ]
  },
  {
   "cell_type": "markdown",
   "metadata": {},
   "source": [
    "https://github.com/xarray-contrib/datatree/issues/311#issuecomment-1944364934\n",
    "\n",
    "Hello, thanks for your answer!\n",
    "\n",
    "Indeed the round-trip capability seems the cleanest default behaviour. A Dataset is supposed to be a group. I think what I needed already exists: it's `DataTree.from_dict` .\n",
    "\n",
    "https://github.com/xarray-contrib/datatree/blob/0afaa6cc1d6800987d8b9c37a604dc0a8c68aeaa/datatree/datatree.py#L1035\n",
    "\n",
    "I can have a look to fix the bug (forbidding Datasets containing path-like variable names), and I can suggest an error message like this to help the user that probably wanted this \"auto-creating-group\" behaviour but did not knew about `.from_dict`:\n",
    "\n",
    "```\n",
    "Given Dataset contains path-like variable names. \n",
    "A Dataset represents a group, and a single group cannot have path-like variable names.\n",
    "Consider `DataTree.from_dict` to automatically create groups from a mapping of paths to data objects\n",
    "```\n",
    "\n",
    "(if you have an idea to shorten and improve it I am interested!)\n",
    "\n",
    "Here is what I really wanted to do when creating the issue:"
   ]
  },
  {
   "cell_type": "code",
   "execution_count": 28,
   "metadata": {},
   "outputs": [
    {
     "data": {
      "text/plain": [
       "{PurePosixPath('group/subgroup/my_variable'): <xarray.DataArray ()>\n",
       " array(nan)}"
      ]
     },
     "execution_count": 28,
     "metadata": {},
     "output_type": "execute_result"
    }
   ],
   "source": [
    "from pathlib import PurePosixPath\n",
    "\n",
    "# Note: paths represent variable names ; the mapping should only contain groups, hence `.parent`\n",
    "# Note 2: the named DataArray is renamed to only keep the name part of the path.\n",
    "# mapping_path_to_dataarray = {\n",
    "#     PurePosixPath(str(varname)).parent: xda.rename(PurePosixPath(str(varname)).name)\n",
    "#     for varname, xda in xds.items()\n",
    "# }\n",
    "mapping_path_to_dataarray = {\n",
    "    PurePosixPath(str(varname)): xr.DataArray()\n",
    "    for varname, xda in xds.items()\n",
    "}\n",
    "mapping_path_to_dataarray"
   ]
  },
  {
   "cell_type": "markdown",
   "metadata": {},
   "source": [
    "Though this logic will work, it seems a little bit over-complicated to me.\n",
    "However, a Dataset carrying variables names containing paths is a little bit \n",
    "a misuse of a Dataset. A DataTree should be used in the first place\n",
    "if possible."
   ]
  },
  {
   "cell_type": "code",
   "execution_count": 29,
   "metadata": {},
   "outputs": [
    {
     "ename": "ValueError",
     "evalue": "unable to convert unnamed DataArray to a Dataset without providing an explicit name",
     "output_type": "error",
     "traceback": [
      "\u001b[0;31m---------------------------------------------------------------------------\u001b[0m",
      "\u001b[0;31mValueError\u001b[0m                                Traceback (most recent call last)",
      "Cell \u001b[0;32mIn[29], line 1\u001b[0m\n\u001b[0;32m----> 1\u001b[0m xdt \u001b[38;5;241m=\u001b[39m \u001b[43mdt\u001b[49m\u001b[38;5;241;43m.\u001b[39;49m\u001b[43mDataTree\u001b[49m\u001b[38;5;241;43m.\u001b[39;49m\u001b[43mfrom_dict\u001b[49m\u001b[43m(\u001b[49m\u001b[43mmapping_path_to_dataarray\u001b[49m\u001b[43m)\u001b[49m\n\u001b[1;32m      2\u001b[0m xdt \u001b[38;5;28;01mif\u001b[39;00m INTERACTIVE \u001b[38;5;28;01melse\u001b[39;00m \u001b[38;5;28mprint\u001b[39m(xdt)\n",
      "File \u001b[0;32m~/.cache/pypoetry/virtualenvs/datatree-experimentation-Sa4oWCLA-py3.10/lib/python3.10/site-packages/datatree/datatree.py:1077\u001b[0m, in \u001b[0;36mDataTree.from_dict\u001b[0;34m(cls, d, name)\u001b[0m\n\u001b[1;32m   1075\u001b[0m             new_node\u001b[38;5;241m.\u001b[39morphan()\n\u001b[1;32m   1076\u001b[0m         \u001b[38;5;28;01melse\u001b[39;00m:\n\u001b[0;32m-> 1077\u001b[0m             new_node \u001b[38;5;241m=\u001b[39m \u001b[38;5;28;43mcls\u001b[39;49m\u001b[43m(\u001b[49m\u001b[43mname\u001b[49m\u001b[38;5;241;43m=\u001b[39;49m\u001b[43mnode_name\u001b[49m\u001b[43m,\u001b[49m\u001b[43m \u001b[49m\u001b[43mdata\u001b[49m\u001b[38;5;241;43m=\u001b[39;49m\u001b[43mdata\u001b[49m\u001b[43m)\u001b[49m\n\u001b[1;32m   1078\u001b[0m         obj\u001b[38;5;241m.\u001b[39m_set_item(\n\u001b[1;32m   1079\u001b[0m             path,\n\u001b[1;32m   1080\u001b[0m             new_node,\n\u001b[1;32m   1081\u001b[0m             allow_overwrite\u001b[38;5;241m=\u001b[39m\u001b[38;5;28;01mFalse\u001b[39;00m,\n\u001b[1;32m   1082\u001b[0m             new_nodes_along_path\u001b[38;5;241m=\u001b[39m\u001b[38;5;28;01mTrue\u001b[39;00m,\n\u001b[1;32m   1083\u001b[0m         )\n\u001b[1;32m   1085\u001b[0m \u001b[38;5;28;01mreturn\u001b[39;00m obj\n",
      "File \u001b[0;32m~/.cache/pypoetry/virtualenvs/datatree-experimentation-Sa4oWCLA-py3.10/lib/python3.10/site-packages/datatree/datatree.py:402\u001b[0m, in \u001b[0;36mDataTree.__init__\u001b[0;34m(self, data, parent, children, name)\u001b[0m\n\u001b[1;32m    400\u001b[0m \u001b[38;5;28;01mif\u001b[39;00m children \u001b[38;5;129;01mis\u001b[39;00m \u001b[38;5;28;01mNone\u001b[39;00m:\n\u001b[1;32m    401\u001b[0m     children \u001b[38;5;241m=\u001b[39m {}\n\u001b[0;32m--> 402\u001b[0m ds \u001b[38;5;241m=\u001b[39m \u001b[43m_coerce_to_dataset\u001b[49m\u001b[43m(\u001b[49m\u001b[43mdata\u001b[49m\u001b[43m)\u001b[49m\n\u001b[1;32m    403\u001b[0m _check_for_name_collisions(children, ds\u001b[38;5;241m.\u001b[39mvariables)\n\u001b[1;32m    405\u001b[0m \u001b[38;5;28msuper\u001b[39m()\u001b[38;5;241m.\u001b[39m\u001b[38;5;21m__init__\u001b[39m(name\u001b[38;5;241m=\u001b[39mname)\n",
      "File \u001b[0;32m~/.cache/pypoetry/virtualenvs/datatree-experimentation-Sa4oWCLA-py3.10/lib/python3.10/site-packages/datatree/datatree.py:84\u001b[0m, in \u001b[0;36m_coerce_to_dataset\u001b[0;34m(data)\u001b[0m\n\u001b[1;32m     82\u001b[0m \u001b[38;5;28;01mdef\u001b[39;00m \u001b[38;5;21m_coerce_to_dataset\u001b[39m(data: Dataset \u001b[38;5;241m|\u001b[39m DataArray \u001b[38;5;241m|\u001b[39m \u001b[38;5;28;01mNone\u001b[39;00m) \u001b[38;5;241m-\u001b[39m\u001b[38;5;241m>\u001b[39m Dataset:\n\u001b[1;32m     83\u001b[0m     \u001b[38;5;28;01mif\u001b[39;00m \u001b[38;5;28misinstance\u001b[39m(data, DataArray):\n\u001b[0;32m---> 84\u001b[0m         ds \u001b[38;5;241m=\u001b[39m \u001b[43mdata\u001b[49m\u001b[38;5;241;43m.\u001b[39;49m\u001b[43mto_dataset\u001b[49m\u001b[43m(\u001b[49m\u001b[43m)\u001b[49m\n\u001b[1;32m     85\u001b[0m     \u001b[38;5;28;01melif\u001b[39;00m \u001b[38;5;28misinstance\u001b[39m(data, Dataset):\n\u001b[1;32m     86\u001b[0m         ds \u001b[38;5;241m=\u001b[39m data\n",
      "File \u001b[0;32m~/.cache/pypoetry/virtualenvs/datatree-experimentation-Sa4oWCLA-py3.10/lib/python3.10/site-packages/xarray/core/dataarray.py:653\u001b[0m, in \u001b[0;36mDataArray.to_dataset\u001b[0;34m(self, dim, name, promote_attrs)\u001b[0m\n\u001b[1;32m    651\u001b[0m     result \u001b[38;5;241m=\u001b[39m \u001b[38;5;28mself\u001b[39m\u001b[38;5;241m.\u001b[39m_to_dataset_split(dim)\n\u001b[1;32m    652\u001b[0m \u001b[38;5;28;01melse\u001b[39;00m:\n\u001b[0;32m--> 653\u001b[0m     result \u001b[38;5;241m=\u001b[39m \u001b[38;5;28;43mself\u001b[39;49m\u001b[38;5;241;43m.\u001b[39;49m\u001b[43m_to_dataset_whole\u001b[49m\u001b[43m(\u001b[49m\u001b[43mname\u001b[49m\u001b[43m)\u001b[49m\n\u001b[1;32m    655\u001b[0m \u001b[38;5;28;01mif\u001b[39;00m promote_attrs:\n\u001b[1;32m    656\u001b[0m     result\u001b[38;5;241m.\u001b[39mattrs \u001b[38;5;241m=\u001b[39m \u001b[38;5;28mdict\u001b[39m(\u001b[38;5;28mself\u001b[39m\u001b[38;5;241m.\u001b[39mattrs)\n",
      "File \u001b[0;32m~/.cache/pypoetry/virtualenvs/datatree-experimentation-Sa4oWCLA-py3.10/lib/python3.10/site-packages/xarray/core/dataarray.py:597\u001b[0m, in \u001b[0;36mDataArray._to_dataset_whole\u001b[0;34m(self, name, shallow_copy)\u001b[0m\n\u001b[1;32m    595\u001b[0m     name \u001b[38;5;241m=\u001b[39m \u001b[38;5;28mself\u001b[39m\u001b[38;5;241m.\u001b[39mname\n\u001b[1;32m    596\u001b[0m \u001b[38;5;28;01mif\u001b[39;00m name \u001b[38;5;129;01mis\u001b[39;00m \u001b[38;5;28;01mNone\u001b[39;00m:\n\u001b[0;32m--> 597\u001b[0m     \u001b[38;5;28;01mraise\u001b[39;00m \u001b[38;5;167;01mValueError\u001b[39;00m(\n\u001b[1;32m    598\u001b[0m         \u001b[38;5;124m\"\u001b[39m\u001b[38;5;124munable to convert unnamed DataArray to a \u001b[39m\u001b[38;5;124m\"\u001b[39m\n\u001b[1;32m    599\u001b[0m         \u001b[38;5;124m\"\u001b[39m\u001b[38;5;124mDataset without providing an explicit name\u001b[39m\u001b[38;5;124m\"\u001b[39m\n\u001b[1;32m    600\u001b[0m     )\n\u001b[1;32m    601\u001b[0m \u001b[38;5;28;01mif\u001b[39;00m name \u001b[38;5;129;01min\u001b[39;00m \u001b[38;5;28mself\u001b[39m\u001b[38;5;241m.\u001b[39mcoords:\n\u001b[1;32m    602\u001b[0m     \u001b[38;5;28;01mraise\u001b[39;00m \u001b[38;5;167;01mValueError\u001b[39;00m(\n\u001b[1;32m    603\u001b[0m         \u001b[38;5;124m\"\u001b[39m\u001b[38;5;124mcannot create a Dataset from a DataArray with \u001b[39m\u001b[38;5;124m\"\u001b[39m\n\u001b[1;32m    604\u001b[0m         \u001b[38;5;124m\"\u001b[39m\u001b[38;5;124mthe same name as one of its coordinates\u001b[39m\u001b[38;5;124m\"\u001b[39m\n\u001b[1;32m    605\u001b[0m     )\n",
      "\u001b[0;31mValueError\u001b[0m: unable to convert unnamed DataArray to a Dataset without providing an explicit name"
     ]
    }
   ],
   "source": [
    "xdt = dt.DataTree.from_dict(mapping_path_to_dataarray)\n",
    "xdt if INTERACTIVE else print(xdt)"
   ]
  },
  {
   "cell_type": "markdown",
   "metadata": {},
   "source": [
    "Note: Pylance is not happy of usage of dict of PurePosixPaths. It only expects str as keys.\n",
    "Maybe it could be worth it to make it accepts Pure Paths too?\n",
    "\n",
    "```\n",
    "Argument of type \"dict[PurePosixPath, DataArray]\" cannot be assigned to parameter \"d\" of type \"MutableMapping[str, Dataset | DataArray | DataTree[Unknown] | None]\" in function \"from_dict\"\n",
    "  \"dict[PurePosixPath, DataArray]\" is incompatible with \"MutableMapping[str, Dataset | DataArray | DataTree[Unknown] | None]\"\n",
    "    Type parameter \"_KT@MutableMapping\" is invariant, but \"PurePosixPath\" is not the same as \"str\"\n",
    "    Type parameter \"_VT@MutableMapping\" is invariant, but \"DataArray\" is not the same as \"Dataset | DataArray | DataTree[Unknown] | None\"PylancereportArgumentType\n",
    "```"
   ]
  },
  {
   "cell_type": "markdown",
   "metadata": {},
   "source": [
    "Reconverting the DataTree gives an empty Dataset, as the root contains only groups \n",
    "but no concrete variables:"
   ]
  },
  {
   "cell_type": "code",
   "execution_count": null,
   "metadata": {},
   "outputs": [
    {
     "name": "stdout",
     "output_type": "stream",
     "text": [
      "<xarray.Dataset>\n",
      "Dimensions:  ()\n",
      "Data variables:\n",
      "    *empty*\n"
     ]
    }
   ],
   "source": [
    "reconverted = xdt.to_dataset()\n",
    "reconverted if INTERACTIVE else print(reconverted)"
   ]
  },
  {
   "cell_type": "markdown",
   "metadata": {},
   "source": [
    "Reconverting the subgroup containing the variable is successful"
   ]
  },
  {
   "cell_type": "code",
   "execution_count": null,
   "metadata": {},
   "outputs": [
    {
     "name": "stdout",
     "output_type": "stream",
     "text": [
      "<xarray.Dataset>\n",
      "Dimensions:  ()\n",
      "Data variables:\n",
      "    *empty*\n"
     ]
    }
   ],
   "source": [
    "reconverted = xdt[\"group/subgroup\"].to_dataset()\n",
    "reconverted if INTERACTIVE else print(reconverted)"
   ]
  }
 ],
 "metadata": {
  "kernelspec": {
   "display_name": "datatree-experimentation-Sa4oWCLA-py3.10",
   "language": "python",
   "name": "python3"
  },
  "language_info": {
   "codemirror_mode": {
    "name": "ipython",
    "version": 3
   },
   "file_extension": ".py",
   "mimetype": "text/x-python",
   "name": "python",
   "nbconvert_exporter": "python",
   "pygments_lexer": "ipython3",
   "version": "3.10.12"
  }
 },
 "nbformat": 4,
 "nbformat_minor": 2
}
