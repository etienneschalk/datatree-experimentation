{
 "cells": [
  {
   "cell_type": "markdown",
   "metadata": {},
   "source": [
    "# When creating a DataTree from a Dataset with path-like variable, subgroups are expected to be created"
   ]
  },
  {
   "cell_type": "code",
   "execution_count": 51,
   "metadata": {},
   "outputs": [],
   "source": [
    "from pathlib import Path\n",
    "\n",
    "import numpy as np\n",
    "import xarray as xr\n",
    "import datatree as dt \n",
    "from xarray import open_zarr"
   ]
  },
  {
   "cell_type": "code",
   "execution_count": 52,
   "metadata": {},
   "outputs": [],
   "source": [
    "# Set to True to get rich HTML representations in an interactive Notebook session\n",
    "# Set to False to get textual representations ready to be converted to markdown for issue report\n",
    "\n",
    "INTERACTIVE = False \n",
    "\n",
    "# Convert to markdown with\n",
    "# jupyter nbconvert --to markdown notebooks/unexpected-behaviour-dt-from-ds.ipynb"
   ]
  },
  {
   "cell_type": "markdown",
   "metadata": {},
   "source": [
    "### Test Data Initialization\n",
    "\n",
    "A Dataset containing a single variable, with a name containing slashes, representing a path."
   ]
  },
  {
   "cell_type": "code",
   "execution_count": 53,
   "metadata": {},
   "outputs": [
    {
     "name": "stdout",
     "output_type": "stream",
     "text": [
      "<xarray.Dataset>\n",
      "Dimensions:                     (label: 3, z: 18)\n",
      "Coordinates:\n",
      "  * label                       (label) <U1 'a' 'b' 'c'\n",
      "  * z                           (z) int64 0 1 2 3 4 5 6 ... 11 12 13 14 15 16 17\n",
      "Data variables:\n",
      "    group/subgroup/my_variable  (label, z) int64 dask.array<chunksize=(2, 4), meta=np.ndarray>\n"
     ]
    }
   ],
   "source": [
    "xda = xr.DataArray(\n",
    "    np.arange(3 * 18).reshape(3, 18),\n",
    "    coords={\"label\": list(\"abc\"), \"z\": list(range(18))},\n",
    ")\n",
    "xda = xda.chunk({\"label\": 2, \"z\": 4})\n",
    "xds = xr.Dataset({\"group/subgroup/my_variable\": xda})\n",
    "xds if INTERACTIVE else print(xds)"
   ]
  },
  {
   "cell_type": "markdown",
   "metadata": {},
   "source": [
    "This flat Dataset containing path-like variable name is expected to produce groups and subgroups\n",
    "once injected into a DataTree.\n",
    "\n",
    "Unfortunately, it does not happen. Instead it produces a flat DataTree with a single variable,\n",
    "with an illegal name (containing slashes)."
   ]
  },
  {
   "cell_type": "code",
   "execution_count": 54,
   "metadata": {},
   "outputs": [
    {
     "name": "stdout",
     "output_type": "stream",
     "text": [
      "DataTree('None', parent=None)\n",
      "    Dimensions:                     (label: 3, z: 18)\n",
      "    Coordinates:\n",
      "      * label                       (label) <U1 'a' 'b' 'c'\n",
      "      * z                           (z) int64 0 1 2 3 4 5 6 ... 11 12 13 14 15 16 17\n",
      "    Data variables:\n",
      "        group/subgroup/my_variable  (label, z) int64 dask.array<chunksize=(2, 4), meta=np.ndarray>\n"
     ]
    }
   ],
   "source": [
    "xdt = dt.DataTree(xds)\n",
    "xdt if INTERACTIVE else print(xdt)"
   ]
  },
  {
   "cell_type": "markdown",
   "metadata": {},
   "source": [
    "This is not only cosmetic. Indeed, trying to access this malformed variable name will result in an error:"
   ]
  },
  {
   "cell_type": "code",
   "execution_count": 55,
   "metadata": {},
   "outputs": [
    {
     "name": "stdout",
     "output_type": "stream",
     "text": [
      "'Could not find node at group/subgroup/my_variable'\n"
     ]
    }
   ],
   "source": [
    "try: \n",
    "    xdt[\"group/subgroup/my_variable\"]\n",
    "except KeyError as err:\n",
    "    print(err)"
   ]
  },
  {
   "cell_type": "markdown",
   "metadata": {},
   "source": [
    "The expected behaviour would be the one of using `__setitem__`:"
   ]
  },
  {
   "cell_type": "code",
   "execution_count": 56,
   "metadata": {},
   "outputs": [
    {
     "name": "stdout",
     "output_type": "stream",
     "text": [
      "DataTree('None', parent=None)\n",
      "└── DataTree('group')\n",
      "    └── DataTree('subgroup')\n",
      "            Dimensions:      (label: 3, z: 18)\n",
      "            Coordinates:\n",
      "              * label        (label) <U1 'a' 'b' 'c'\n",
      "              * z            (z) int64 0 1 2 3 4 5 6 7 8 9 10 11 12 13 14 15 16 17\n",
      "            Data variables:\n",
      "                my_variable  (label, z) int64 dask.array<chunksize=(2, 4), meta=np.ndarray>\n"
     ]
    }
   ],
   "source": [
    "xdt = dt.DataTree()\n",
    "for varname, xda in xds.items():\n",
    "    xdt[varname] = xda\n",
    "xdt if INTERACTIVE else print(xdt)"
   ]
  },
  {
   "cell_type": "markdown",
   "metadata": {},
   "source": [
    "### Technical Hints\n",
    "\n",
    "`__setitem__` wraps the key into a `NodePath`:\n",
    "\n",
    "https://github.com/xarray-contrib/datatree/blob/0afaa6cc1d6800987d8b9c37a604dc0a8c68aeaa/datatree/datatree.py#L923\n",
    "\n",
    "Probably this section of the DataTree initialization logic would need to be adapted:\n",
    "\n",
    "https://github.com/xarray-contrib/datatree/blob/0afaa6cc1d6800987d8b9c37a604dc0a8c68aeaa/datatree/datatree.py#L408\n"
   ]
  }
 ],
 "metadata": {
  "kernelspec": {
   "display_name": "datatree-experimentation-Sa4oWCLA-py3.10",
   "language": "python",
   "name": "python3"
  },
  "language_info": {
   "codemirror_mode": {
    "name": "ipython",
    "version": 3
   },
   "file_extension": ".py",
   "mimetype": "text/x-python",
   "name": "python",
   "nbconvert_exporter": "python",
   "pygments_lexer": "ipython3",
   "version": "3.10.12"
  }
 },
 "nbformat": 4,
 "nbformat_minor": 2
}
