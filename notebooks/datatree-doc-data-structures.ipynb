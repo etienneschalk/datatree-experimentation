{
 "cells": [
  {
   "cell_type": "markdown",
   "metadata": {},
   "source": [
    "See https://xarray-datatree.readthedocs.io/en/latest/data-structures.html"
   ]
  },
  {
   "cell_type": "code",
   "execution_count": null,
   "metadata": {},
   "outputs": [],
   "source": [
    "from datatree import DataTree\n",
    "import xarray as xr \n",
    "import numpy as np"
   ]
  },
  {
   "cell_type": "code",
   "execution_count": null,
   "metadata": {},
   "outputs": [],
   "source": [
    "\n",
    "\n",
    "ds1 = xr.Dataset({\"foo\": \"orange\"})\n",
    "\n",
    "dt = DataTree(name=\"root\", data=ds1)  # create root node\n",
    "\n",
    "print(dt)\n",
    "\n",
    "dt\n"
   ]
  },
  {
   "cell_type": "code",
   "execution_count": null,
   "metadata": {},
   "outputs": [],
   "source": [
    "ds2 = xr.Dataset({\"bar\": 0}, coords={\"y\": (\"y\", [0, 1, 2])})\n",
    "\n",
    "# add a child by referring to the parent node\n",
    "node2 = DataTree(name=\"a\", parent=dt, data=ds2)\n",
    "\n",
    "print(node2)\n",
    "\n",
    "node2"
   ]
  },
  {
   "cell_type": "code",
   "execution_count": null,
   "metadata": {},
   "outputs": [],
   "source": [
    "# add a second child by first creating a new node ...\n",
    "ds3 = xr.Dataset({\"zed\": np.NaN})\n",
    "\n",
    "node3 = DataTree(name=\"b\", data=ds3)\n",
    "\n",
    "# ... then updating its .parent property\n",
    "node3.parent = dt\n",
    "\n",
    "print(dt)\n",
    "\n",
    "dt"
   ]
  },
  {
   "cell_type": "code",
   "execution_count": null,
   "metadata": {},
   "outputs": [],
   "source": [
    "# (not yet implemented)\n",
    "ds1.to_node()"
   ]
  },
  {
   "cell_type": "code",
   "execution_count": null,
   "metadata": {},
   "outputs": [],
   "source": [
    "dt_from_dict = DataTree.from_dict({\n",
    "    'a/b': xr.Dataset({'the_variable': 1}),\n",
    "    '/c/d': xr.Dataset({'the_variable': 2}),\n",
    "    'c/e/': xr.Dataset({'the_variable': 3}),\n",
    "})\n",
    "print(dt_from_dict)\n",
    "\n",
    "dt_from_dict"
   ]
  },
  {
   "cell_type": "code",
   "execution_count": null,
   "metadata": {},
   "outputs": [],
   "source": [
    "dt_from_dict['/c/e/the_variable']"
   ]
  },
  {
   "cell_type": "code",
   "execution_count": null,
   "metadata": {},
   "outputs": [],
   "source": [
    "dt_from_dict.c.e.the_variable"
   ]
  },
  {
   "cell_type": "code",
   "execution_count": null,
   "metadata": {},
   "outputs": [],
   "source": [
    "# Group Name: DataTree\n",
    "print(dt['a'])\n",
    "dt['a']"
   ]
  },
  {
   "cell_type": "code",
   "execution_count": null,
   "metadata": {},
   "outputs": [],
   "source": [
    "# DataArray name\n",
    "dt['foo']"
   ]
  },
  {
   "cell_type": "code",
   "execution_count": null,
   "metadata": {},
   "outputs": [],
   "source": [
    "dt['a'].ds # view (immutable)"
   ]
  },
  {
   "cell_type": "code",
   "execution_count": null,
   "metadata": {},
   "outputs": [],
   "source": [
    "dt['a'].to_dataset() # to mutable dataset"
   ]
  },
  {
   "cell_type": "code",
   "execution_count": null,
   "metadata": {},
   "outputs": [],
   "source": [
    "dt.a.data_vars"
   ]
  },
  {
   "cell_type": "code",
   "execution_count": null,
   "metadata": {},
   "outputs": [],
   "source": [
    "dt.a.coords"
   ]
  },
  {
   "cell_type": "code",
   "execution_count": null,
   "metadata": {},
   "outputs": [],
   "source": [
    "dt = DataTree(name=\"root\")\n",
    "\n",
    "dt[\"foo\"] = \"orange\"\n",
    "dt[\"a\"] = DataTree(data=xr.Dataset({\"bar\": 0}, coords={\"y\": (\"y\", [0, 1, 2])}))\n",
    "dt[\"a/b/zed\"] = np.NaN\n",
    "print(dt)"
   ]
  }
 ],
 "metadata": {
  "kernelspec": {
   "display_name": "datatree-experimentation-Sa4oWCLA-py3.10",
   "language": "python",
   "name": "python3"
  },
  "language_info": {
   "codemirror_mode": {
    "name": "ipython",
    "version": 3
   },
   "file_extension": ".py",
   "mimetype": "text/x-python",
   "name": "python",
   "nbconvert_exporter": "python",
   "pygments_lexer": "ipython3",
   "version": "3.10.12"
  }
 },
 "nbformat": 4,
 "nbformat_minor": 2
}
