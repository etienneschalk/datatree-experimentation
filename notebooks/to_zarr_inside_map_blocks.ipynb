{
 "cells": [
  {
   "cell_type": "code",
   "execution_count": null,
   "metadata": {},
   "outputs": [],
   "source": [
    "from pathlib import Path\n",
    "import shutil\n",
    "import xarray as xr\n",
    "import numpy as np\n",
    "import dask.array as da\n",
    "\n",
    "xr.show_versions()"
   ]
  },
  {
   "cell_type": "code",
   "execution_count": null,
   "metadata": {},
   "outputs": [],
   "source": [
    "zarr_file_path = Path(\"../generated/file.zarr\")"
   ]
  },
  {
   "cell_type": "code",
   "execution_count": null,
   "metadata": {},
   "outputs": [],
   "source": [
    "\n",
    "chunk_size = 5\n",
    "shape = (50, 32, 1000)\n",
    "ones_dataset = xr.Dataset({\"data\": xr.ones_like(xr.DataArray(np.empty(shape)))})\n",
    "ones_dataset = ones_dataset.chunk({\"dim_0\": chunk_size})\n",
    "\n",
    "chunk_indices = np.arange(len(ones_dataset.chunks[\"dim_0\"]))\n",
    "chunk_ids = np.repeat(np.arange(ones_dataset.sizes[\"dim_0\"] // chunk_size), chunk_size)\n",
    "chunk_ids_dask_array = da.from_array(chunk_ids, chunks=(chunk_size,))\n",
    "# Append the chunk IDs Dask array as a new variable to the existing dataset\n",
    "ones_dataset[\"chunk_id\"] = ((\"dim_0\",), chunk_ids_dask_array)\n",
    "\n",
    "ones_dataset"
   ]
  },
  {
   "cell_type": "code",
   "execution_count": null,
   "metadata": {},
   "outputs": [],
   "source": [
    "ones_dataset.chunk_id.values"
   ]
  },
  {
   "cell_type": "code",
   "execution_count": null,
   "metadata": {},
   "outputs": [],
   "source": [
    "# # Try: pre-compute dask id\n",
    "# ones_dataset[\"chunk_id\"] = ones_dataset[\"chunk_id\"].compute()\n",
    "# ones_dataset[\"chunk_id\"]"
   ]
  },
  {
   "cell_type": "code",
   "execution_count": null,
   "metadata": {},
   "outputs": [],
   "source": [
    "# Create a new dataset filled with zeros\n",
    "zeros_dataset = xr.Dataset({\"data\": xr.zeros_like(xr.DataArray(np.empty(shape)))})\n",
    "zeros_dataset"
   ]
  },
  {
   "cell_type": "code",
   "execution_count": null,
   "metadata": {},
   "outputs": [],
   "source": [
    "if zarr_file_path.exists():\n",
    "    shutil.rmtree(zarr_file_path)\n",
    "\n",
    "zeros_dataset.to_zarr(zarr_file_path, compute=False)\n",
    "zarr_data = xr.open_zarr(zarr_file_path)\n",
    "\n",
    "def process_chunk(chunk_dataset: xr.Dataset):\n",
    "    chunk_id = int(chunk_dataset[\"chunk_id\"][0])\n",
    "    chunk_dataset_to_store = chunk_dataset.drop_vars(\"chunk_id\")\n",
    "\n",
    "    start_index = chunk_id * chunk_size\n",
    "    end_index = chunk_id * chunk_size + chunk_size\n",
    "\n",
    "    print(start_index, end_index) \n",
    "    \n",
    "    # chunk_dataset_to_store.to_zarr(\n",
    "    #     zarr_file_path, region={\"dim_0\": slice(start_index, end_index)}\n",
    "    # )\n",
    "    \n",
    "    return chunk_dataset\n",
    "\n",
    "\n",
    "# ones_dataset.map_blocks(process_chunk, template=ones_dataset).compute()\n",
    "mapped = ones_dataset.map_blocks(process_chunk, template=ones_dataset)\n",
    "mapped.data"
   ]
  },
  {
   "cell_type": "code",
   "execution_count": null,
   "metadata": {},
   "outputs": [],
   "source": [
    "mapped.to_zarr(zarr_file_path)"
   ]
  },
  {
   "cell_type": "code",
   "execution_count": null,
   "metadata": {},
   "outputs": [],
   "source": [
    "# Load data stored in zarr\n",
    "zarr_data = xr.open_zarr(zarr_file_path)\n",
    "# zarr_data = xr.open_zarr(zarr_file_path, chunks={\"dim_0\": chunk_size})\n",
    "\n",
    "# Find differences\n",
    "for var_name in zarr_data.variables:\n",
    "    try:\n",
    "        xr.testing.assert_equal(zarr_data[var_name], ones_dataset[var_name])\n",
    "    except AssertionError:\n",
    "        print(f\"Differences in {var_name}:\")\n",
    "        expected = ones_dataset[var_name].sum().compute().item()\n",
    "        actual = zarr_data[var_name].sum().compute().item()\n",
    "        print(f\"{expected=}\")\n",
    "        print(f\"{actual=}\")"
   ]
  },
  {
   "cell_type": "code",
   "execution_count": null,
   "metadata": {},
   "outputs": [],
   "source": [
    "zarr_data.data"
   ]
  }
 ],
 "metadata": {
  "kernelspec": {
   "display_name": "datatree-experimentation-Sa4oWCLA-py3.10",
   "language": "python",
   "name": "python3"
  },
  "language_info": {
   "codemirror_mode": {
    "name": "ipython",
    "version": 3
   },
   "file_extension": ".py",
   "mimetype": "text/x-python",
   "name": "python",
   "nbconvert_exporter": "python",
   "pygments_lexer": "ipython3",
   "version": "3.10.12"
  }
 },
 "nbformat": 4,
 "nbformat_minor": 2
}
