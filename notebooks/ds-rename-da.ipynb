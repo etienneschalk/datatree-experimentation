{
 "cells": [
  {
   "cell_type": "code",
   "execution_count": 10,
   "metadata": {},
   "outputs": [],
   "source": [
    "import xarray as xr"
   ]
  },
  {
   "cell_type": "markdown",
   "metadata": {},
   "source": [
    "https://docs.xarray.dev/en/stable/generated/xarray.DataArray.name.html"
   ]
  },
  {
   "cell_type": "code",
   "execution_count": 11,
   "metadata": {},
   "outputs": [
    {
     "name": "stdout",
     "output_type": "stream",
     "text": [
      "<xarray.Dataset>\n",
      "Dimensions:  (dim_0: 1)\n",
      "Dimensions without coordinates: dim_0\n",
      "Data variables:\n",
      "    a        (dim_0) int64 1\n"
     ]
    }
   ],
   "source": [
    "xds = xr.Dataset({\"a\": xr.DataArray([1])})\n",
    "print(xds)"
   ]
  },
  {
   "cell_type": "code",
   "execution_count": 12,
   "metadata": {},
   "outputs": [
    {
     "name": "stdout",
     "output_type": "stream",
     "text": [
      "<xarray.DataArray 'a' (dim_0: 1)>\n",
      "array([1])\n",
      "Dimensions without coordinates: dim_0\n"
     ]
    }
   ],
   "source": [
    "print(xds[\"a\"])"
   ]
  },
  {
   "cell_type": "code",
   "execution_count": 13,
   "metadata": {},
   "outputs": [],
   "source": [
    "xds[\"a\"].name = \"toto\""
   ]
  },
  {
   "cell_type": "code",
   "execution_count": 16,
   "metadata": {},
   "outputs": [
    {
     "name": "stdout",
     "output_type": "stream",
     "text": [
      "<xarray.DataArray 'a' (dim_0: 1)>\n",
      "array([1])\n",
      "Dimensions without coordinates: dim_0\n"
     ]
    }
   ],
   "source": [
    "print(xds[\"a\"])"
   ]
  },
  {
   "cell_type": "code",
   "execution_count": 18,
   "metadata": {},
   "outputs": [
    {
     "name": "stdout",
     "output_type": "stream",
     "text": [
      "<xarray.DataArray 'toto' (dim_0: 1)>\n",
      "array([1])\n",
      "Dimensions without coordinates: dim_0\n"
     ]
    }
   ],
   "source": [
    "xda = xds[\"a\"]\n",
    "xda.name = \"toto\"\n",
    "print(xda)"
   ]
  },
  {
   "cell_type": "code",
   "execution_count": 19,
   "metadata": {},
   "outputs": [
    {
     "name": "stdout",
     "output_type": "stream",
     "text": [
      "<xarray.Dataset>\n",
      "Dimensions:  (dim_0: 1)\n",
      "Dimensions without coordinates: dim_0\n",
      "Data variables:\n",
      "    a        (dim_0) int64 1\n"
     ]
    }
   ],
   "source": [
    "print(xds)"
   ]
  }
 ],
 "metadata": {
  "kernelspec": {
   "display_name": "datatree-experimentation-Sa4oWCLA-py3.10",
   "language": "python",
   "name": "python3"
  },
  "language_info": {
   "codemirror_mode": {
    "name": "ipython",
    "version": 3
   },
   "file_extension": ".py",
   "mimetype": "text/x-python",
   "name": "python",
   "nbconvert_exporter": "python",
   "pygments_lexer": "ipython3",
   "version": "3.10.12"
  }
 },
 "nbformat": 4,
 "nbformat_minor": 2
}
