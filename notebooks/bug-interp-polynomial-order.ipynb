{
 "cells": [
  {
   "cell_type": "code",
   "execution_count": 43,
   "metadata": {},
   "outputs": [],
   "source": [
    "import xarray as xr\n",
    "import pandas as pd \n",
    "import numpy as np"
   ]
  },
  {
   "cell_type": "markdown",
   "metadata": {},
   "source": [
    "## Reproduce the bug"
   ]
  },
  {
   "cell_type": "markdown",
   "metadata": {},
   "source": [
    "Example taken from [DataArray.resample](https://docs.xarray.dev/en/stable/generated/xarray.DataArray.resample.html), adapted to name the dimension `valid_time`"
   ]
  },
  {
   "cell_type": "code",
   "execution_count": 44,
   "metadata": {},
   "outputs": [
    {
     "name": "stdout",
     "output_type": "stream",
     "text": [
      "<xarray.DataArray (valid_time: 12)>\n",
      "array([ 0.,  1.,  2.,  3.,  4.,  5.,  6.,  7.,  8.,  9., 10., 11.])\n",
      "Coordinates:\n",
      "  * valid_time  (valid_time) datetime64[ns] 1999-12-15 2000-01-15 ... 2000-11-15\n"
     ]
    }
   ],
   "source": [
    "xda = xr.DataArray(\n",
    "    np.linspace(0, 11, num=12),\n",
    "    coords={\"valid_time\":\n",
    "        pd.date_range(\n",
    "            \"1999-12-15\",\n",
    "            periods=12,\n",
    "            freq=pd.DateOffset(months=1),\n",
    "        )\n",
    "    },\n",
    ")\n",
    "print(xda)"
   ]
  },
  {
   "cell_type": "code",
   "execution_count": 45,
   "metadata": {},
   "outputs": [],
   "source": [
    "try:\n",
    "    data_per_day = xda.resample(valid_time=\"1D\").interpolate(\"polynomial\")\n",
    "except ValueError as err:\n",
    "    assert str(err) == \"order is required when method=polynomial\""
   ]
  },
  {
   "cell_type": "code",
   "execution_count": 46,
   "metadata": {},
   "outputs": [],
   "source": [
    "try:\n",
    "    data_per_day = xda.resample(valid_time=\"1D\").interpolate(kind=\"polynomial\", order=3)\n",
    "except TypeError as err:\n",
    "    assert (\n",
    "        str(err) == \"Resample.interpolate() got an unexpected keyword argument 'order'\"\n",
    "    )"
   ]
  },
  {
   "cell_type": "markdown",
   "metadata": {},
   "source": [
    "## Technical Analysis\n",
    "\n",
    "First error message\n",
    "\n",
    "> \"order is required when method=polynomial\"\n",
    "\n",
    "Source: https://github.com/pydata/xarray/blob/main/xarray/core/missing.py#L153\n",
    "\n",
    "It seems that the `method` argument becomes the `order` one when `method == 'polynomial'`. It is unclear to me what the `order` argument is supposed to contain. Maybe @jhamman have an idea? This seems to have been introduced in https://github.com/pydata/xarray/pull/1640\n",
    "\n",
    "Second error message:\n",
    "\n",
    "> \"Resample.interpolate() got an unexpected keyword argument 'order'\"\n",
    "\n",
    "Check https://docs.xarray.dev/en/stable/generated/xarray.core.resample.DataArrayResample.interpolate.html\n",
    "\n",
    "Source: https://github.com/pydata/xarray/blob/main/xarray/core/resample.py#L143-L171\n",
    "\n",
    "We can see that the function signature only allows for a single `kind` keyword, hence the `TypeError: Resample.interpolate() got an unexpected keyword argument 'order'` is the direct consequence.\n",
    "\n",
    "It uses [interp1d](https://docs.scipy.org/doc/scipy/reference/generated/scipy.interpolate.interp1d.html). :warning: This function is declared as legacy, so maybe xarray should move away from its use?\n"
   ]
  },
  {
   "cell_type": "markdown",
   "metadata": {},
   "source": [
    "## `xr.show_versions()`"
   ]
  },
  {
   "cell_type": "code",
   "execution_count": 47,
   "metadata": {},
   "outputs": [
    {
     "name": "stdout",
     "output_type": "stream",
     "text": [
      "\n",
      "INSTALLED VERSIONS\n",
      "------------------\n",
      "commit: None\n",
      "python: 3.10.12 (main, Aug 15 2023, 11:50:32) [GCC 9.4.0]\n",
      "python-bits: 64\n",
      "OS: Linux\n",
      "OS-release: 5.15.0-92-generic\n",
      "machine: x86_64\n",
      "processor: x86_64\n",
      "byteorder: little\n",
      "LC_ALL: None\n",
      "LANG: en_US.UTF-8\n",
      "LOCALE: ('en_US', 'UTF-8')\n",
      "libhdf5: None\n",
      "libnetcdf: None\n",
      "\n",
      "xarray: 2023.10.1\n",
      "pandas: 2.1.3\n",
      "numpy: 1.25.2\n",
      "scipy: 1.12.0\n",
      "netCDF4: None\n",
      "pydap: None\n",
      "h5netcdf: None\n",
      "h5py: None\n",
      "Nio: None\n",
      "zarr: 2.16.1\n",
      "cftime: None\n",
      "nc_time_axis: None\n",
      "PseudoNetCDF: None\n",
      "iris: None\n",
      "bottleneck: None\n",
      "dask: 2023.11.0\n",
      "distributed: None\n",
      "matplotlib: None\n",
      "cartopy: None\n",
      "seaborn: None\n",
      "numbagg: None\n",
      "fsspec: 2023.10.0\n",
      "cupy: None\n",
      "pint: None\n",
      "sparse: None\n",
      "flox: None\n",
      "numpy_groupies: None\n",
      "setuptools: 67.8.0\n",
      "pip: 23.1.2\n",
      "conda: None\n",
      "pytest: None\n",
      "mypy: None\n",
      "IPython: 8.17.2\n",
      "sphinx: None\n"
     ]
    }
   ],
   "source": [
    "import warnings\n",
    "\n",
    "warnings.filterwarnings(\"ignore\")\n",
    "xr.show_versions()"
   ]
  }
 ],
 "metadata": {
  "kernelspec": {
   "display_name": "datatree-experimentation-Sa4oWCLA-py3.10",
   "language": "python",
   "name": "python3"
  },
  "language_info": {
   "codemirror_mode": {
    "name": "ipython",
    "version": 3
   },
   "file_extension": ".py",
   "mimetype": "text/x-python",
   "name": "python",
   "nbconvert_exporter": "python",
   "pygments_lexer": "ipython3",
   "version": "3.10.12"
  }
 },
 "nbformat": 4,
 "nbformat_minor": 2
}
