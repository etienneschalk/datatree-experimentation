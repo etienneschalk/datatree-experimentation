{
 "cells": [
  {
   "cell_type": "code",
   "execution_count": null,
   "metadata": {},
   "outputs": [],
   "source": [
    "from pathlib import Path\n",
    "\n",
    "import numpy as np\n",
    "import xarray as xr\n",
    "from datatree import DataTree, open_datatree\n",
    "from xarray import open_zarr"
   ]
  },
  {
   "cell_type": "markdown",
   "metadata": {},
   "source": [
    "## Data Creation\n"
   ]
  },
  {
   "cell_type": "code",
   "execution_count": null,
   "metadata": {},
   "outputs": [],
   "source": [
    "xda = xr.DataArray(\n",
    "    np.arange(3 * 18).reshape(3, 18),\n",
    "    coords={\"label\": list(\"abc\"), \"z\": list(range(18))},\n",
    ")\n",
    "xda = xda.chunk({\"label\": 2, \"z\": 4})\n",
    "xda"
   ]
  },
  {
   "cell_type": "code",
   "execution_count": null,
   "metadata": {},
   "outputs": [],
   "source": [
    "xdt = DataTree(xr.Dataset({\"my_xda\": xda}))\n",
    "xdt.my_xda"
   ]
  },
  {
   "cell_type": "markdown",
   "metadata": {},
   "source": [
    "## Data Writing\n"
   ]
  },
  {
   "cell_type": "code",
   "execution_count": null,
   "metadata": {},
   "outputs": [],
   "source": [
    "zarr_path = Path() / \"../generated/my_array.zarr\"\n",
    "xdt.to_zarr(zarr_path)"
   ]
  },
  {
   "cell_type": "markdown",
   "metadata": {},
   "source": [
    "## Data Reading\n"
   ]
  },
  {
   "cell_type": "markdown",
   "metadata": {},
   "source": [
    "### Using xarray's `open_zarr` \n",
    "\n",
    "See https://docs.xarray.dev/en/stable/generated/xarray.open_zarr.html\n",
    "\n",
    "Documentation version: `stable` at time of writing: 11 nov 2023\n",
    "\n",
    "Resulting behaviours serve as reference."
   ]
  },
  {
   "cell_type": "markdown",
   "metadata": {},
   "source": [
    "#### No `chunks` kwarg\n",
    "\n",
    "Stored chunks are used."
   ]
  },
  {
   "cell_type": "code",
   "execution_count": null,
   "metadata": {},
   "outputs": [],
   "source": [
    "open_zarr(zarr_path).my_xda"
   ]
  },
  {
   "cell_type": "markdown",
   "metadata": {},
   "source": [
    "#### With `chunks='auto'`\n",
    "\n",
    "Stored chunks are used.\n",
    "\n",
    "Same behaviour as with no `chunks` kwarg."
   ]
  },
  {
   "cell_type": "code",
   "execution_count": null,
   "metadata": {},
   "outputs": [],
   "source": [
    "# https://docs.xarray.dev/en/stable/generated/xarray.open_zarr.html\n",
    "open_zarr(zarr_path, chunks=\"auto\").my_xda"
   ]
  },
  {
   "cell_type": "markdown",
   "metadata": {},
   "source": [
    "### Using datatree's `open_datatree` with `engine='zarr'`\n",
    "\n",
    "See https://xarray-datatree.readthedocs.io/en/latest/generated/datatree.open_datatree.html#datatree.open_datatree\n",
    "\n",
    "Documentation version:\n",
    "\n",
    "```\n",
    "Datatree 0.0.14.dev5+g433f78d.d20231110 documentation\n",
    "```"
   ]
  },
  {
   "cell_type": "markdown",
   "metadata": {},
   "source": [
    "#### No `chunks` kwarg\n",
    "\n",
    "No chunking performed.\n",
    "\n",
    "(NOK)\n",
    "\n",
    "(!) Differs from the xarray's reference behaviour where stored chunks are used."
   ]
  },
  {
   "cell_type": "code",
   "execution_count": null,
   "metadata": {},
   "outputs": [],
   "source": [
    "open_datatree(zarr_path, engine=\"zarr\").my_xda"
   ]
  },
  {
   "cell_type": "markdown",
   "metadata": {},
   "source": [
    "#### With `chunks='auto'`\n",
    "\n",
    "A chunk identical to the shape of the data is used.\n",
    "This means chunking is useless as there is only a single chunk representing the whole dataset\n",
    "\n",
    "(NOK)\n",
    "\n",
    "(!) Differs from the xarray's reference behaviour where stored chunks are used.\n"
   ]
  },
  {
   "cell_type": "code",
   "execution_count": null,
   "metadata": {},
   "outputs": [],
   "source": [
    "open_datatree(zarr_path, engine=\"zarr\", chunks=\"auto\").my_xda"
   ]
  },
  {
   "cell_type": "markdown",
   "metadata": {},
   "source": [
    "#### With `chunks` kwarg (same as stored chunks)\n",
    "\n",
    "(OK)\n",
    "\n",
    "No warning is shown because given chunks correspond to the stored chunks"
   ]
  },
  {
   "cell_type": "code",
   "execution_count": null,
   "metadata": {},
   "outputs": [],
   "source": [
    "open_datatree(zarr_path, engine=\"zarr\", chunks={\"label\": 2, \"z\": 4}).my_xda"
   ]
  },
  {
   "cell_type": "markdown",
   "metadata": {},
   "source": [
    "#### With `chunks` kwarg (differing from the stored chunks)\n",
    "\n",
    "(OK)\n",
    "\n",
    "A warning is shown\n",
    "\n",
    "> UserWarning: The specified chunks separate the stored chunks along dimension \"z\" starting at index 5. This could degrade performance. Instead, consider rechunking after loading."
   ]
  },
  {
   "cell_type": "code",
   "execution_count": null,
   "metadata": {},
   "outputs": [],
   "source": [
    "open_datatree(zarr_path, engine=\"zarr\", chunks={\"label\": 999, \"z\": 5}).my_xda"
   ]
  }
 ],
 "metadata": {
  "kernelspec": {
   "display_name": "datatree-experimentation-Sa4oWCLA-py3.10",
   "language": "python",
   "name": "python3"
  },
  "language_info": {
   "codemirror_mode": {
    "name": "ipython",
    "version": 3
   },
   "file_extension": ".py",
   "mimetype": "text/x-python",
   "name": "python",
   "nbconvert_exporter": "python",
   "pygments_lexer": "ipython3",
   "version": "3.10.12"
  }
 },
 "nbformat": 4,
 "nbformat_minor": 2
}
